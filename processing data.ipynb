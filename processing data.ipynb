{
 "cells": [
  {
   "cell_type": "markdown",
   "metadata": {},
   "source": [
    "This script for saving our data in  database SQL (name database : data_project in sql)\n"
   ]
  },
  {
   "cell_type": "code",
   "execution_count": 49,
   "metadata": {},
   "outputs": [],
   "source": [
    "#packaages for our script \n",
    "import pandas as pd \n",
    "import numpy as np \n",
    "import mysql.connector\n",
    "from mysql.connector import Error"
   ]
  },
  {
   "cell_type": "code",
   "execution_count": 50,
   "metadata": {},
   "outputs": [],
   "source": [
    "# etablish connexion from my script and my database sql in local\n",
    "def connect_to_database(host, database, user, password):\n",
    "    \"\"\" Connectez-vous à la base de données SQL. \"\"\"\n",
    "    try:\n",
    "        connection = mysql.connector.connect(\n",
    "            host=host,\n",
    "            database=database,\n",
    "            user=user,\n",
    "            password=password\n",
    "        )\n",
    "        if connection.is_connected():\n",
    "            db_info = connection.get_server_info()\n",
    "            print(\"Connecté au serveur MySQL version\", db_info)\n",
    "            return connection\n",
    "    except Error as e:\n",
    "        print(\"Erreur lors de la connexion à MySQL:\", e)\n",
    "        return None\n"
   ]
  },
  {
   "cell_type": "code",
   "execution_count": 10,
   "metadata": {},
   "outputs": [],
   "source": [
    "def main():\n",
    "    db_connection = connect_to_database(\n",
    "        host='localhost',\n",
    "        database='data_project',\n",
    "        user='root',\n",
    "        password=''\n",
    "    )"
   ]
  },
  {
   "cell_type": "code",
   "execution_count": 55,
   "metadata": {},
   "outputs": [
    {
     "name": "stdout",
     "output_type": "stream",
     "text": [
      "    Accident_Id  jour  mois    an   hrmn  lum dep    com  agg  int  ...  prof  \\\n",
      "0  202200000004    20    10  2022  18:00    1  16  16102    2    3  ...     2   \n",
      "1  202200000007    20    10  2022  21:00    5  13  13063    2    1  ...     1   \n",
      "2  202200000011    20    10  2022  06:20    5  09  09122    2    1  ...     2   \n",
      "3  202200000013    19    10  2022  19:30    3  03  03095    1    1  ...     1   \n",
      "4  202200000015    21    10  2022  03:16    5  75  75119    2    7  ...     1   \n",
      "\n",
      "    pr  pr1 plan lartpc  larrout  surf infra  situ vma  \n",
      "0  (1)  (1)    1    NaN        4     1     0     1  30  \n",
      "1    0    0    1    NaN       -1     1     0     1  50  \n",
      "2   38  522    1    NaN       -1     2     0     4  70  \n",
      "3    5  370    1    NaN       -1     1     0     1  90  \n",
      "4  (1)  (1)    2    NaN       -1     2     0     1  30  \n",
      "\n",
      "[5 rows x 33 columns]\n"
     ]
    }
   ],
   "source": [
    "from sqlalchemy import create_engine\n",
    "\n",
    "def connect_to_database(host, database, user, password):\n",
    "    # Créez la chaîne de connexion pour SQLAlchemy\n",
    "    connection_string = f\"mysql+pymysql://{user}:{password}@{host}/{database}\"\n",
    "    engine = create_engine(connection_string)\n",
    "    return engine\n",
    "\n",
    "def main():\n",
    "    # Connexion à la base de données\n",
    "    db_connection = connect_to_database(\n",
    "        host='localhost',\n",
    "        database='data_project',\n",
    "        user='root',\n",
    "        password=''\n",
    "    )\n",
    "\n",
    "    # Lecture du fichier CSV\n",
    "    pf = pd.read_csv('data_acc/carcteristiques-2022.csv', sep=';')\n",
    "    ps = pd.read_csv('data_processed/sample_lieux-2022.csv')\n",
    "    num_accident=[]\n",
    "    num_accident=ps['Num_Acc']    \n",
    "    resultat = pf[pf['Accident_Id'].isin(num_accident)]\n",
    "    # Fusionner les DataFrames\n",
    "    merged_df = pd.merge(resultat,ps, left_on='Accident_Id', right_on='Num_Acc', how='left')\n",
    "\n",
    "# Afficher les premières lignes du DataFrame fusionné pour vérifier\n",
    "    print(merged_df.head())\n",
    "    merged_df.to_sql('data_4model', con=db_connection, index=False, if_exists='replace')\n",
    "if __name__ == \"__main__\":\n",
    "    main()\n",
    "\n"
   ]
  },
  {
   "cell_type": "code",
   "execution_count": 42,
   "metadata": {},
   "outputs": [],
   "source": [
    "pf = pd.read_csv('data_acc/carcteristiques-2022.csv', sep=';')\n",
    "ps = pd.read_csv('data_processed/sample_lieux-2022.csv')\n",
    "num_accident=[]\n",
    "num_accident=ps['Num_Acc']    \n",
    "resultat = pf[pf['Accident_Id'].isin(num_accident)]\n"
   ]
  },
  {
   "cell_type": "code",
   "execution_count": 43,
   "metadata": {},
   "outputs": [
    {
     "name": "stdout",
     "output_type": "stream",
     "text": [
      "    Accident_Id  jour  mois    an   hrmn  lum dep    com  agg  int  ...  prof  \\\n",
      "0  202200000004    20    10  2022  18:00    1  16  16102    2    3  ...     2   \n",
      "1  202200000007    20    10  2022  21:00    5  13  13063    2    1  ...     1   \n",
      "2  202200000011    20    10  2022  06:20    5  09  09122    2    1  ...     2   \n",
      "3  202200000013    19    10  2022  19:30    3  03  03095    1    1  ...     1   \n",
      "4  202200000015    21    10  2022  03:16    5  75  75119    2    7  ...     1   \n",
      "\n",
      "    pr  pr1 plan lartpc  larrout  surf infra  situ vma  \n",
      "0  (1)  (1)    1    NaN        4     1     0     1  30  \n",
      "1    0    0    1    NaN       -1     1     0     1  50  \n",
      "2   38  522    1    NaN       -1     2     0     4  70  \n",
      "3    5  370    1    NaN       -1     1     0     1  90  \n",
      "4  (1)  (1)    2    NaN       -1     2     0     1  30  \n",
      "\n",
      "[5 rows x 33 columns]\n"
     ]
    }
   ],
   "source": [
    "# Fusionner les DataFrames\n",
    "merged_df = pd.merge(resultat,ps, left_on='Accident_Id', right_on='Num_Acc', how='left')\n",
    "\n",
    "# Afficher les premières lignes du DataFrame fusionné pour vérifier\n",
    "print(merged_df.head())"
   ]
  },
  {
   "cell_type": "code",
   "execution_count": 52,
   "metadata": {},
   "outputs": [
    {
     "ename": "NameError",
     "evalue": "name 'db_connection' is not defined",
     "output_type": "error",
     "traceback": [
      "\u001b[1;31m---------------------------------------------------------------------------\u001b[0m",
      "\u001b[1;31mNameError\u001b[0m                                 Traceback (most recent call last)",
      "Cell \u001b[1;32mIn[52], line 2\u001b[0m\n\u001b[0;32m      1\u001b[0m \u001b[38;5;66;03m# Stockage du dataframe dans la base de données\u001b[39;00m\n\u001b[1;32m----> 2\u001b[0m merged_df\u001b[38;5;241m.\u001b[39mto_sql(\u001b[38;5;124m'\u001b[39m\u001b[38;5;124mcaractestique_1\u001b[39m\u001b[38;5;124m'\u001b[39m, con\u001b[38;5;241m=\u001b[39mdb_connection, index\u001b[38;5;241m=\u001b[39m\u001b[38;5;28;01mFalse\u001b[39;00m, if_exists\u001b[38;5;241m=\u001b[39m\u001b[38;5;124m'\u001b[39m\u001b[38;5;124mreplace\u001b[39m\u001b[38;5;124m'\u001b[39m)\n\u001b[0;32m      4\u001b[0m \u001b[38;5;28;01mif\u001b[39;00m \u001b[38;5;18m__name__\u001b[39m \u001b[38;5;241m==\u001b[39m \u001b[38;5;124m\"\u001b[39m\u001b[38;5;124m__main__\u001b[39m\u001b[38;5;124m\"\u001b[39m:\n\u001b[0;32m      5\u001b[0m     main()\n",
      "\u001b[1;31mNameError\u001b[0m: name 'db_connection' is not defined"
     ]
    }
   ],
   "source": [
    "\n",
    "# Stockage du dataframe dans la base de données\n",
    "merged_df.to_sql('caractestique_1', con=db_connection, index=False, if_exists='replace')\n",
    "\n",
    "if __name__ == \"__main__\":\n",
    "    main()"
   ]
  },
  {
   "cell_type": "code",
   "execution_count": null,
   "metadata": {},
   "outputs": [],
   "source": []
  }
 ],
 "metadata": {
  "kernelspec": {
   "display_name": "base",
   "language": "python",
   "name": "python3"
  },
  "language_info": {
   "codemirror_mode": {
    "name": "ipython",
    "version": 3
   },
   "file_extension": ".py",
   "mimetype": "text/x-python",
   "name": "python",
   "nbconvert_exporter": "python",
   "pygments_lexer": "ipython3",
   "version": "3.11.5"
  }
 },
 "nbformat": 4,
 "nbformat_minor": 2
}
