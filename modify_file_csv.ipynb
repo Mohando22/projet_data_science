{
 "cells": [
  {
   "cell_type": "markdown",
   "metadata": {},
   "source": [
    "processing data \n"
   ]
  },
  {
   "cell_type": "code",
   "execution_count": 2,
   "metadata": {},
   "outputs": [],
   "source": [
    "import pandas as  pd \n",
    "import csv \n",
    "import random \n",
    "import os \n"
   ]
  },
  {
   "cell_type": "code",
   "execution_count": 8,
   "metadata": {},
   "outputs": [
    {
     "name": "stdout",
     "output_type": "stream",
     "text": [
      "Les lignes sélectionnées du fichier 'carcteristiques-2022.csv' ont été sauvegardées dans 'data_processed\\sample_carcteristiques-2022.csv'.\n"
     ]
    },
    {
     "name": "stderr",
     "output_type": "stream",
     "text": [
      "C:\\Users\\pc\\AppData\\Local\\Temp\\ipykernel_15068\\444953719.py:18: DtypeWarning: Columns (6) have mixed types. Specify dtype option on import or set low_memory=False.\n",
      "  df = pd.read_csv(chemin_complet, sep=';')\n"
     ]
    },
    {
     "name": "stdout",
     "output_type": "stream",
     "text": [
      "Les lignes sélectionnées du fichier 'lieux-2022.csv' ont été sauvegardées dans 'data_processed\\sample_lieux-2022.csv'.\n",
      "Les lignes sélectionnées du fichier 'usagers-2022.csv' ont été sauvegardées dans 'data_processed\\sample_usagers-2022.csv'.\n",
      "Les lignes sélectionnées du fichier 'vehicules-2022.csv' ont été sauvegardées dans 'data_processed\\sample_vehicules-2022.csv'.\n"
     ]
    }
   ],
   "source": [
    "# path to csv and saving data \n",
    "doc_csv = 'data_acc'\n",
    "dossier = 'data_processed'\n",
    "if not os.path.exists(dossier):\n",
    "    os.makedirs(dossier)\n",
    "\n",
    "#process all file csv in directory \n",
    "for fichier in os.listdir(doc_csv):\n",
    "    #making path to my file\n",
    "    chemin_complet = os.path.join(doc_csv, fichier)\n",
    "    if os.path.isfile(chemin_complet) and fichier.endswith('.csv'):\n",
    "        # read csv fie \n",
    "        df = pd.read_csv(chemin_complet, sep=';')\n",
    "        if len(df) >= 5000:\n",
    "            #select  data \n",
    "            df_sample = df.sample(n=5000)\n",
    "        else:\n",
    "            print(f\"Le fichier {fichier} contient moins de 5000 lignes.\")\n",
    "            df_sample = df\n",
    "        #making path to my new file sving csv\n",
    "        nouveau_chemin = os.path.join(dossier, f\"sample_{fichier}\")\n",
    "        df_sample.to_csv(nouveau_chemin, index=False)\n",
    "        print(f\"Les lignes sélectionnées du fichier '{fichier}' ont été sauvegardées dans '{nouveau_chemin}'.\")"
   ]
  }
 ],
 "metadata": {
  "kernelspec": {
   "display_name": "base",
   "language": "python",
   "name": "python3"
  },
  "language_info": {
   "codemirror_mode": {
    "name": "ipython",
    "version": 3
   },
   "file_extension": ".py",
   "mimetype": "text/x-python",
   "name": "python",
   "nbconvert_exporter": "python",
   "pygments_lexer": "ipython3",
   "version": "3.11.5"
  }
 },
 "nbformat": 4,
 "nbformat_minor": 2
}
