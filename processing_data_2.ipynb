{
 "cells": [
  {
   "cell_type": "code",
   "execution_count": 1,
   "metadata": {},
   "outputs": [],
   "source": [
    "import pandas as pd"
   ]
  },
  {
   "cell_type": "code",
   "execution_count": 2,
   "metadata": {},
   "outputs": [],
   "source": [
    "pf = pd.read_csv('data_acc/carcteristiques-2022.csv', sep=';')\n",
    "ps = pd.read_csv('data_processed/sample_lieux-2022.csv')\n",
    "num_accident=[]\n",
    "num_accident=ps['Num_Acc']    \n",
    "resultat = pf[pf['Accident_Id'].isin(num_accident)]\n",
    "#merge file csv to generate file csv to using"
   ]
  },
  {
   "cell_type": "code",
   "execution_count": 3,
   "metadata": {},
   "outputs": [],
   "source": [
    "merged_df = pd.merge(resultat,ps, left_on='Accident_Id', right_on='Num_Acc', how='left')\n"
   ]
  },
  {
   "cell_type": "code",
   "execution_count": 23,
   "metadata": {},
   "outputs": [],
   "source": [
    "liste_departement=[]\n",
    "liste_departement=merged_df[\"dep\"] "
   ]
  },
  {
   "cell_type": "code",
   "execution_count": 16,
   "metadata": {},
   "outputs": [
    {
     "name": "stdout",
     "output_type": "stream",
     "text": [
      "['01', '02', '03', '04', '05', '06', '07', '08', '09', '10', '11', '12', '13', '14', '15', '16', '17', '18', '19', '2A', '2B', '21', '22', '23', '24', '25', '26', '27', '28', '29', '30', '31', '32', '33', '34', '35', '36', '37', '38', '39', '40', '41', '42', '43', '44', '45', '46', '47', '48', '49', '50', '51', '52', '53', '54', '55', '56', '57', '58', '59', '60', '61', '62', '63', '64', '65', '66', '67', '68', '69', '70', '71', '72', '73', '74', '75', '76', '77', '78', '79', '80', '81', '82', '83', '84', '85', '86', '87', '88', '89', '90', '91', '92', '93', '94', '95', '971', '972', '973', '974', '976']\n",
      "101\n"
     ]
    }
   ],
   "source": [
    "#add nb of accident in each departement  \n",
    "liste_departement_unique = ['01', '02', '03', '04', '05', '06', '07', '08', '09', '10',\n",
    " '11', '12', '13', '14', '15', '16', '17', '18', '19', '2A',\n",
    " '2B', '21', '22', '23', '24', '25', '26', '27', '28', '29',\n",
    " '30', '31', '32', '33', '34', '35', '36', '37', '38', '39',\n",
    " '40', '41', '42', '43', '44', '45', '46', '47', '48', '49',\n",
    " '50', '51', '52', '53', '54', '55', '56', '57', '58', '59',\n",
    " '60', '61', '62', '63', '64', '65', '66', '67', '68', '69',\n",
    " '70', '71', '72', '73', '74', '75', '76', '77', '78', '79',\n",
    " '80', '81', '82', '83', '84', '85', '86', '87', '88', '89',\n",
    " '90', '91', '92', '93', '94', '95', '971', '972', '973', '974', '976']\n",
    "\n",
    "nb_accident=[] \n",
    "print(liste_departement_unique)\n",
    "print(len(liste_departement_unique))\n",
    "for i in liste_departement_unique :\n",
    "    c=0\n",
    "    for j in liste_departement:\n",
    "        if  i==j : \n",
    "           c+=1\n",
    "    nb_accident.append(c)\n",
    "\n"
   ]
  },
  {
   "cell_type": "code",
   "execution_count": 22,
   "metadata": {},
   "outputs": [],
   "source": [
    "#saving data of accident in dataframe \n",
    "data= pd.DataFrame({\n",
    "    'departements': liste_departement_unique ,  \n",
    "    'nombre_accident': nb_accident\n",
    "})\n",
    "data.to_csv('data.csv', index=False)"
   ]
  }
 ],
 "metadata": {
  "kernelspec": {
   "display_name": "base",
   "language": "python",
   "name": "python3"
  },
  "language_info": {
   "codemirror_mode": {
    "name": "ipython",
    "version": 3
   },
   "file_extension": ".py",
   "mimetype": "text/x-python",
   "name": "python",
   "nbconvert_exporter": "python",
   "pygments_lexer": "ipython3",
   "version": "3.11.5"
  }
 },
 "nbformat": 4,
 "nbformat_minor": 2
}
